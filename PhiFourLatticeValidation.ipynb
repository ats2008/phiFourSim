{
 "cells": [
  {
   "cell_type": "code",
   "execution_count": null,
   "metadata": {},
   "outputs": [],
   "source": [
    "!top -u"
   ]
  },
  {
   "cell_type": "code",
   "execution_count": null,
   "metadata": {},
   "outputs": [],
   "source": [
    "# !pip3 install numpy"
   ]
  },
  {
   "cell_type": "code",
   "execution_count": null,
   "metadata": {},
   "outputs": [],
   "source": [
    "!cat alattice.txt"
   ]
  },
  {
   "cell_type": "code",
   "execution_count": null,
   "metadata": {},
   "outputs": [],
   "source": [
    "import numpy as np\n",
    "import matplotlib.pyplot as plt"
   ]
  },
  {
   "cell_type": "code",
   "execution_count": null,
   "metadata": {},
   "outputs": [],
   "source": [
    "\n",
    "dim=4\n",
    "\n",
    "f=open(\"alattice.txt\",'r')\n",
    "l=f.readline()\n",
    "item=l.split(\",\")\n",
    "tStepSize,xStepSize,yStepSize,zStepSize = int(item[0]),int(item[1]),int(item[2]),int(item[3])\n",
    "latticeSize=tStepSize*xStepSize*yStepSize*zStepSize \n",
    "print(\"rStepSize = [ {} , {} , {} ] , tStepSize = {} , latticeSize = {}\".format(xStepSize,yStepSize,zStepSize,tStepSize,latticeSize))\n",
    "\n",
    "\n",
    "lattice=np.ndarray((tStepSize,xStepSize,yStepSize,zStepSize))\n",
    "print(\" reading lattice of shape \",lattice.shape)\n",
    "l=f.readline()\n",
    "while l:\n",
    "    item=l.split(\",\")\n",
    "    i,j,k,l,val=int(item[1]),int(item[2]),int(item[3]),int(item[4]),float(item[5])\n",
    "    lattice[i][j][k][l]=float(val)\n",
    "    l=f.readline()\n",
    "    \n",
    "f.close()    "
   ]
  },
  {
   "cell_type": "code",
   "execution_count": null,
   "metadata": {},
   "outputs": [],
   "source": [
    "i,j,k=0,0,0\n",
    "for i in range(tStepSize):\n",
    "    for j in range(xStepSize):\n",
    "        for k in range(xStepSize):\n",
    "            print(lattice[:,i,j,k])"
   ]
  },
  {
   "cell_type": "code",
   "execution_count": null,
   "metadata": {},
   "outputs": [],
   "source": [
    "sucess=True\n",
    "totalFails=0\n",
    "for i in range(tStepSize):\n",
    "    for j in range(xStepSize):\n",
    "        for k in range(xStepSize):\n",
    "            for l in range(xStepSize):\n",
    "                x=lattice[i][j][k][l]\n",
    "                if x==lattice[i][j][k][(l+1)%xStepSize]:\n",
    "                    print(\"{},{},{},{} != {},{},{},{}\".format(i,j,k,l,i,j,k,(l+1)%xStepSize))\n",
    "                    sucess=False\n",
    "                    totalFails+=1\n",
    "                if x==lattice[i][j][k][l-1]:\n",
    "                    print(\"{},{},{},{} != {},{},{},{}\".format(i,j,k,l,i,j,k,l-1))\n",
    "                    sucess=False\n",
    "                    totalFails+=1\n",
    "                if x==lattice[i][j][(k+1)%xStepSize][l]:\n",
    "                    print(\"{},{},{},{} != {},{},{},{}\".format(i,j,k,l,i,j,(k+1)%xStepSize,l))\n",
    "                    sucess=False\n",
    "                    totalFails+=1\n",
    "                if x==lattice[i][j][k-1][l]:\n",
    "                    print(\"{},{},{},{} != {},{},{},{}\".format(i,j,k,l,i,j,k-1,l))\n",
    "                    sucess=False\n",
    "                    totalFails+=1\n",
    "                if x==lattice[i][(j+1)%xStepSize][k][l]:\n",
    "                    print(\"{},{},{},{} != {},{},{},{}\".format(i,j,k,l,i,(j+1)%xStepSize,k,l))\n",
    "                    sucess=False\n",
    "                    totalFails+=1\n",
    "                if x==lattice[i][j-1][k][l]:\n",
    "                    print(\"{},{},{},{} != {},{},{},{}\".format(i,j,k,l,i,j-1,k,l))\n",
    "                    sucess=False\n",
    "                    totalFails+=1\n",
    "                if x==lattice[(i+1)%xStepSize][j][k][l]:\n",
    "                    print(\"{},{},{},{} != {},{},{},{}\".format(i,j,k,l,(i+1)%xStepSize,j,k,l))\n",
    "                    sucess=False\n",
    "                    totalFails+=1\n",
    "                if x==lattice[(i+1)%xStepSize][j][k][l]:\n",
    "                    print(\"{},{},{},{} != {},{},{},{}\".format(i,j,k,l,i-1,j,k,l))\n",
    "                    sucess=False\n",
    "                    totalFails+=1\n",
    "                \n",
    "if not sucess:\n",
    "    print(\"validation failed to suceed with \",totalFails,\" mihappenings\")\n",
    "else:\n",
    "    print(\"validation sucessfull\")\n",
    "    "
   ]
  },
  {
   "cell_type": "code",
   "execution_count": null,
   "metadata": {},
   "outputs": [],
   "source": [
    "# sucess=True\n",
    "# totalFails=0\n",
    "# for i in range(tStepSize):\n",
    "#     for j in range(xStepSize):\n",
    "#         for k in range(xStepSize):\n",
    "#             for l in range(xStepSize):\n",
    "#                 x=-1*lattice[i][j][k][l]\n",
    "#                 if x!=lattice[i][j][k][(l+1)%xStepSize]:\n",
    "#                     print(\"{},{},{},{} != {},{},{},{}\".format(i,j,k,l,i,j,k,(l+1)%xStepSize))\n",
    "#                     sucess=False\n",
    "#                     totalFails+=1\n",
    "#                 if x!=lattice[i][j][k][l-1]:\n",
    "#                     print(\"{},{},{},{} != {},{},{},{}\".format(i,j,k,l,i,j,k,l-1))\n",
    "#                     sucess=False\n",
    "#                     totalFails+=1\n",
    "#                 if x!=lattice[i][j][(k+1)%xStepSize][l]:\n",
    "#                     print(\"{},{},{},{} != {},{},{},{}\".format(i,j,k,l,i,j,(k+1)%xStepSize,l))\n",
    "#                     sucess=False\n",
    "#                     totalFails+=1\n",
    "#                 if x!=lattice[i][j][k-1][l]:\n",
    "#                     print(\"{},{},{},{} != {},{},{},{}\".format(i,j,k,l,i,j,k-1,l))\n",
    "#                     sucess=False\n",
    "#                     totalFails+=1\n",
    "#                 if x!=lattice[i][(j+1)%xStepSize][k][l]:\n",
    "#                     print(\"{},{},{},{} != {},{},{},{}\".format(i,j,k,l,i,(j+1)%xStepSize,k,l))\n",
    "#                     sucess=False\n",
    "#                     totalFails+=1\n",
    "#                 if x!=lattice[i][j-1][k][l]:\n",
    "#                     print(\"{},{},{},{} != {},{},{},{}\".format(i,j,k,l,i,j-1,k,l))\n",
    "#                     sucess=False\n",
    "#                     totalFails+=1\n",
    "#                 if x!=lattice[(i+1)%xStepSize][j][k][l]:\n",
    "#                     print(\"{},{},{},{} != {},{},{},{}\".format(i,j,k,l,(i+1)%xStepSize,j,k,l))\n",
    "#                     sucess=False\n",
    "#                     totalFails+=1\n",
    "#                 if x!=lattice[(i+1)%xStepSize][j][k][l]:\n",
    "#                     print(\"{},{},{},{} != {},{},{},{}\".format(i,j,k,l,i-1,j,k,l))\n",
    "#                     sucess=False\n",
    "#                     totalFails+=1\n",
    "                \n",
    "# if not sucess:\n",
    "#     print(\"validation failed to suceed with \",totalFails,\" mihappenings\")\n",
    "# else:\n",
    "#     print(\"validation sucessfull\")\n",
    "    "
   ]
  },
  {
   "cell_type": "markdown",
   "metadata": {},
   "source": [
    "## Phi4 Validation"
   ]
  },
  {
   "cell_type": "code",
   "execution_count": null,
   "metadata": {},
   "outputs": [],
   "source": [
    "readNlattices=200\n",
    "dim=4\n",
    "\n",
    "f=open(\"blattice.txt\",'r')\n",
    "l=f.readline()\n",
    "item=l.split(\",\")\n",
    "tStepSize,xStepSize,yStepSize,zStepSize = int(item[0]),int(item[1]),int(item[2]),int(item[3])\n",
    "latticeSize=tStepSize*xStepSize*yStepSize*zStepSize \n",
    "print(\"rStepSize = [ {} , {} , {} ] , tStepSize = {} , latticeSize = {}\\n\".format(xStepSize,yStepSize,zStepSize,tStepSize,latticeSize))\n",
    "\n",
    "\n",
    "lattice=np.ndarray((readNlattices,tStepSize,xStepSize,yStepSize,zStepSize))\n",
    "print(\"lattice allowted  : \",lattice.nbytes/1024/1024,\" MB\")\n",
    "\n",
    "print(\" reading matrix of shape \",lattice.shape)\n",
    "l=f.readline()\n",
    "currLattice=-1\n",
    "skipCount = 0\n",
    "count=-1\n",
    "while l:\n",
    "    if l[0]=='!':\n",
    "        l=f.readline()\n",
    "        count+=1\n",
    "        if(count%10==0):\n",
    "            print(count)\n",
    "        if count<skipCount:\n",
    "            continue\n",
    "        currLattice+=1\n",
    "    if currLattice== readNlattices:\n",
    "        break\n",
    "    item=l.split(\",\")\n",
    "    i,j,k,l,val=int(item[1]),int(item[2]),int(item[3]),int(item[4]),float(item[5])\n",
    "    lattice[currLattice][i][j][k][l]=float(val)\n",
    "    l=f.readline()\n",
    "    \n",
    "f.close()    \n"
   ]
  },
  {
   "cell_type": "markdown",
   "metadata": {},
   "source": [
    "### Print time and spatial Slices"
   ]
  },
  {
   "cell_type": "code",
   "execution_count": null,
   "metadata": {},
   "outputs": [],
   "source": [
    "# time slice\n",
    "\n",
    "stateA_Idx=0\n",
    "stateB_Idx=4\n",
    "\n",
    "tSlice_x  = 0\n",
    "tSlice_y  = 0\n",
    "tSlice_z  = 0\n",
    "\n",
    "tSlice = np.arange(0,tStepSize)\n",
    "\n",
    "plt.scatter(tSlice,lattice[stateA_Idx,:,tSlice_x,tSlice_y,tSlice_z])\n",
    "plt.scatter(tSlice,lattice[stateB_Idx,:,tSlice_x,tSlice_y,tSlice_z])\n"
   ]
  },
  {
   "cell_type": "code",
   "execution_count": null,
   "metadata": {},
   "outputs": [],
   "source": [
    "plt.hist(np.ndarray.flatten(abs(lattice)))"
   ]
  },
  {
   "cell_type": "code",
   "execution_count": null,
   "metadata": {},
   "outputs": [],
   "source": [
    "lattice[stateA_Idx,Slice_t,:,:,tSlice_z]"
   ]
  },
  {
   "cell_type": "code",
   "execution_count": null,
   "metadata": {},
   "outputs": [],
   "source": [
    "# time slice\n",
    "\n",
    "stateA_Idx=0\n",
    "stateB_Idx=1\n",
    "stateC_Idx=2\n",
    "stateD_Idx=3\n",
    "\n",
    "Slice_t  = 0\n",
    "Slice_z  = 0\n",
    "\n",
    "tSlice = np.arange(0,tStepSize)\n",
    "\n",
    "f,ax=plt.subplots(1,4,figsize=(16,4))\n",
    "ax[0].matshow(lattice[stateA_Idx,Slice_t,:,:,tSlice_z], vmin=-1, vmax=+1)\n",
    "ax[1].matshow(lattice[stateB_Idx,Slice_t,:,:,tSlice_z], vmin=-1, vmax=+1)\n",
    "ax[2].matshow(lattice[stateC_Idx,Slice_t,:,:,tSlice_z], vmin=-1, vmax=+1)\n",
    "ax[3].matshow(lattice[stateD_Idx,Slice_t,:,:,tSlice_z], vmin=-1, vmax=+1)"
   ]
  },
  {
   "cell_type": "markdown",
   "metadata": {},
   "source": [
    "## Make images for spatial slice GIF"
   ]
  },
  {
   "cell_type": "code",
   "execution_count": null,
   "metadata": {},
   "outputs": [],
   "source": [
    "np.amax(lattice[i,Slice_t,:,:,tSlice_z])"
   ]
  },
  {
   "cell_type": "code",
   "execution_count": null,
   "metadata": {},
   "outputs": [],
   "source": [
    "Slice_t  = 0\n",
    "Slice_z  = 0\n",
    "\n",
    "tSlice = np.arange(0,tStepSize)\n",
    "\n",
    "f=plt.figure(figsize=(4,4))\n",
    "\n",
    "ax = plt.gca()\n",
    "for i in range(200):\n",
    "    ax.matshow(np.abs(lattice[i,Slice_t,:,:,tSlice_z]), vmin=0, vmax=5.0)#np.amax(lattice[i,Slice_t,:,:,tSlice_z]))\n",
    "    plt.savefig(\"gifpics/\"+str(i)+\"_lattice.png\")\n",
    "    "
   ]
  },
  {
   "cell_type": "code",
   "execution_count": null,
   "metadata": {},
   "outputs": [],
   "source": []
  }
 ],
 "metadata": {
  "kernelspec": {
   "display_name": "Python 3",
   "language": "python",
   "name": "python3"
  },
  "language_info": {
   "codemirror_mode": {
    "name": "ipython",
    "version": 3
   },
   "file_extension": ".py",
   "mimetype": "text/x-python",
   "name": "python",
   "nbconvert_exporter": "python",
   "pygments_lexer": "ipython3",
   "version": "3.6.8"
  }
 },
 "nbformat": 4,
 "nbformat_minor": 4
}
