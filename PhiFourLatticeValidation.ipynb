{
 "cells": [
  {
   "cell_type": "code",
   "execution_count": null,
   "metadata": {},
   "outputs": [],
   "source": [
    "# !pip3 install numpy"
   ]
  },
  {
   "cell_type": "code",
   "execution_count": null,
   "metadata": {},
   "outputs": [],
   "source": [
    "!cat alattice.txt"
   ]
  },
  {
   "cell_type": "code",
   "execution_count": null,
   "metadata": {},
   "outputs": [],
   "source": [
    "import numpy as np"
   ]
  },
  {
   "cell_type": "code",
   "execution_count": null,
   "metadata": {},
   "outputs": [],
   "source": [
    "xStepSize=4\n",
    "tStepSize=4\n",
    "dim=4\n",
    "latticeSize=tStepSize*np.power(xStepSize,dim-1)\n",
    "print(\"xStepSize = {} , tStepSize = {} , latticeSize = {}\".format(xStepSize,tStepSize,latticeSize))"
   ]
  },
  {
   "cell_type": "code",
   "execution_count": null,
   "metadata": {},
   "outputs": [],
   "source": [
    "f=open(\"alattice.txt\",'r')\n",
    "l=f.readline()\n",
    "item=l.split(\",\")\n",
    "tStepSize,xStepSize,yStepSize,zStepSize = int(item[0]),int(item[1]),int(item[2]),int(item[3])\n",
    "lattice=np.ndarray((tStepSize,xStepSize,yStepSize,zStepSize))\n",
    "print(\" reading lattice of shape \",lattice.shape)\n",
    "l=f.readline()\n",
    "while l:\n",
    "    item=l.split(\",\")\n",
    "    i,j,k,l,val=int(item[1]),int(item[2]),int(item[3]),int(item[4]),float(item[5])\n",
    "    lattice[i][j][k][l]=float(val)\n",
    "    l=f.readline()\n",
    "    \n",
    "f.close()    "
   ]
  },
  {
   "cell_type": "code",
   "execution_count": null,
   "metadata": {},
   "outputs": [],
   "source": [
    "i,j,k=0,0,0\n",
    "for i in range(tStepSize):\n",
    "    for j in range(xStepSize):\n",
    "        for k in range(xStepSize):\n",
    "            print(lattice[:,i,j,k])"
   ]
  },
  {
   "cell_type": "code",
   "execution_count": null,
   "metadata": {},
   "outputs": [],
   "source": [
    "sucess=True\n",
    "totalFails=0\n",
    "for i in range(tStepSize):\n",
    "    for j in range(xStepSize):\n",
    "        for k in range(xStepSize):\n",
    "            for l in range(xStepSize):\n",
    "                x=lattice[i][j][k][l]\n",
    "                if x==lattice[i][j][k][(l+1)%xStepSize]:\n",
    "                    print(\"{},{},{},{} != {},{},{},{}\".format(i,j,k,l,i,j,k,(l+1)%xStepSize))\n",
    "                    sucess=False\n",
    "                    totalFails+=1\n",
    "                if x==lattice[i][j][k][l-1]:\n",
    "                    print(\"{},{},{},{} != {},{},{},{}\".format(i,j,k,l,i,j,k,l-1))\n",
    "                    sucess=False\n",
    "                    totalFails+=1\n",
    "                if x==lattice[i][j][(k+1)%xStepSize][l]:\n",
    "                    print(\"{},{},{},{} != {},{},{},{}\".format(i,j,k,l,i,j,(k+1)%xStepSize,l))\n",
    "                    sucess=False\n",
    "                    totalFails+=1\n",
    "                if x==lattice[i][j][k-1][l]:\n",
    "                    print(\"{},{},{},{} != {},{},{},{}\".format(i,j,k,l,i,j,k-1,l))\n",
    "                    sucess=False\n",
    "                    totalFails+=1\n",
    "                if x==lattice[i][(j+1)%xStepSize][k][l]:\n",
    "                    print(\"{},{},{},{} != {},{},{},{}\".format(i,j,k,l,i,(j+1)%xStepSize,k,l))\n",
    "                    sucess=False\n",
    "                    totalFails+=1\n",
    "                if x==lattice[i][j-1][k][l]:\n",
    "                    print(\"{},{},{},{} != {},{},{},{}\".format(i,j,k,l,i,j-1,k,l))\n",
    "                    sucess=False\n",
    "                    totalFails+=1\n",
    "                if x==lattice[(i+1)%xStepSize][j][k][l]:\n",
    "                    print(\"{},{},{},{} != {},{},{},{}\".format(i,j,k,l,(i+1)%xStepSize,j,k,l))\n",
    "                    sucess=False\n",
    "                    totalFails+=1\n",
    "                if x==lattice[(i+1)%xStepSize][j][k][l]:\n",
    "                    print(\"{},{},{},{} != {},{},{},{}\".format(i,j,k,l,i-1,j,k,l))\n",
    "                    sucess=False\n",
    "                    totalFails+=1\n",
    "                \n",
    "if not sucess:\n",
    "    print(\"validation failed to suceed with \",totalFails,\" mihappenings\")\n",
    "else:\n",
    "    print(\"validation sucessfull\")\n",
    "    "
   ]
  },
  {
   "cell_type": "code",
   "execution_count": null,
   "metadata": {},
   "outputs": [],
   "source": [
    "sucess=True\n",
    "totalFails=0\n",
    "for i in range(tStepSize):\n",
    "    for j in range(xStepSize):\n",
    "        for k in range(xStepSize):\n",
    "            for l in range(xStepSize):\n",
    "                x=-1*lattice[i][j][k][l]\n",
    "                if x!=lattice[i][j][k][(l+1)%xStepSize]:\n",
    "                    print(\"{},{},{},{} != {},{},{},{}\".format(i,j,k,l,i,j,k,(l+1)%xStepSize))\n",
    "                    sucess=False\n",
    "                    totalFails+=1\n",
    "                if x!=lattice[i][j][k][l-1]:\n",
    "                    print(\"{},{},{},{} != {},{},{},{}\".format(i,j,k,l,i,j,k,l-1))\n",
    "                    sucess=False\n",
    "                    totalFails+=1\n",
    "                if x!=lattice[i][j][(k+1)%xStepSize][l]:\n",
    "                    print(\"{},{},{},{} != {},{},{},{}\".format(i,j,k,l,i,j,(k+1)%xStepSize,l))\n",
    "                    sucess=False\n",
    "                    totalFails+=1\n",
    "                if x!=lattice[i][j][k-1][l]:\n",
    "                    print(\"{},{},{},{} != {},{},{},{}\".format(i,j,k,l,i,j,k-1,l))\n",
    "                    sucess=False\n",
    "                    totalFails+=1\n",
    "                if x!=lattice[i][(j+1)%xStepSize][k][l]:\n",
    "                    print(\"{},{},{},{} != {},{},{},{}\".format(i,j,k,l,i,(j+1)%xStepSize,k,l))\n",
    "                    sucess=False\n",
    "                    totalFails+=1\n",
    "                if x!=lattice[i][j-1][k][l]:\n",
    "                    print(\"{},{},{},{} != {},{},{},{}\".format(i,j,k,l,i,j-1,k,l))\n",
    "                    sucess=False\n",
    "                    totalFails+=1\n",
    "                if x!=lattice[(i+1)%xStepSize][j][k][l]:\n",
    "                    print(\"{},{},{},{} != {},{},{},{}\".format(i,j,k,l,(i+1)%xStepSize,j,k,l))\n",
    "                    sucess=False\n",
    "                    totalFails+=1\n",
    "                if x!=lattice[(i+1)%xStepSize][j][k][l]:\n",
    "                    print(\"{},{},{},{} != {},{},{},{}\".format(i,j,k,l,i-1,j,k,l))\n",
    "                    sucess=False\n",
    "                    totalFails+=1\n",
    "                \n",
    "if not sucess:\n",
    "    print(\"validation failed to suceed with \",totalFails,\" mihappenings\")\n",
    "else:\n",
    "    print(\"validation sucessfull\")\n",
    "    "
   ]
  }
 ],
 "metadata": {
  "kernelspec": {
   "display_name": "Python 3",
   "language": "python",
   "name": "python3"
  },
  "language_info": {
   "codemirror_mode": {
    "name": "ipython",
    "version": 3
   },
   "file_extension": ".py",
   "mimetype": "text/x-python",
   "name": "python",
   "nbconvert_exporter": "python",
   "pygments_lexer": "ipython3",
   "version": "3.6.8"
  }
 },
 "nbformat": 4,
 "nbformat_minor": 4
}
